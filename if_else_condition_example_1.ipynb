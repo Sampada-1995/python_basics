{
  "nbformat": 4,
  "nbformat_minor": 0,
  "metadata": {
    "colab": {
      "name": "if else condition example 1.ipynb",
      "provenance": [],
      "authorship_tag": "ABX9TyOmYSG8nG5nf9BaAjAmJOYZ",
      "include_colab_link": true
    },
    "kernelspec": {
      "name": "python3",
      "display_name": "Python 3"
    },
    "language_info": {
      "name": "python"
    }
  },
  "cells": [
    {
      "cell_type": "markdown",
      "metadata": {
        "id": "view-in-github",
        "colab_type": "text"
      },
      "source": [
        "<a href=\"https://colab.research.google.com/github/Sampada-1995/python_basics/blob/main/if_else_condition_example_1.ipynb\" target=\"_parent\"><img src=\"https://colab.research.google.com/assets/colab-badge.svg\" alt=\"Open In Colab\"/></a>"
      ]
    },
    {
      "cell_type": "code",
      "execution_count": null,
      "metadata": {
        "id": "AyUy1EohzSbF"
      },
      "outputs": [],
      "source": [
        "x=15\n",
        "if x<=15:\n",
        "  print (\"x is a positive number\")\n",
        "else:\n",
        "  print (\"x is either 0 or negative number\")\n",
        "\n"
      ]
    }
  ]
}