{
  "nbformat": 4,
  "nbformat_minor": 0,
  "metadata": {
    "colab": {
      "name": "if condition example 1.ipynb",
      "provenance": [],
      "authorship_tag": "ABX9TyP7ax7PCa2zKNzb6g+b4/z0",
      "include_colab_link": true
    },
    "kernelspec": {
      "name": "python3",
      "display_name": "Python 3"
    },
    "language_info": {
      "name": "python"
    }
  },
  "cells": [
    {
      "cell_type": "markdown",
      "metadata": {
        "id": "view-in-github",
        "colab_type": "text"
      },
      "source": [
        "<a href=\"https://colab.research.google.com/github/Sampada-1995/python_basics/blob/If-condition/if_condition_example_1.ipynb\" target=\"_parent\"><img src=\"https://colab.research.google.com/assets/colab-badge.svg\" alt=\"Open In Colab\"/></a>"
      ]
    },
    {
      "cell_type": "code",
      "execution_count": 4,
      "metadata": {
        "colab": {
          "base_uri": "https://localhost:8080/"
        },
        "id": "83f9Ja7doD4C",
        "outputId": "a161567a-0c87-4d8a-ec5e-4c5b8d37e035"
      },
      "outputs": [
        {
          "output_type": "stream",
          "name": "stdout",
          "text": [
            "a is positive number\n"
          ]
        }
      ],
      "source": [
        "a=10\n",
        "if a>0:\n",
        "    print (\"a is positive number\")"
      ]
    }
  ]
}